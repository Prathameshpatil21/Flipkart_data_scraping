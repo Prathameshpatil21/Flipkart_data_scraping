{
  "nbformat": 4,
  "nbformat_minor": 0,
  "metadata": {
    "colab": {
      "name": "Flipkart_data_scraping.ipynb",
      "provenance": []
    },
    "kernelspec": {
      "name": "python3",
      "display_name": "Python 3"
    },
    "language_info": {
      "name": "python"
    }
  },
  "cells": [
    {
      "cell_type": "code",
      "execution_count": 1,
      "metadata": {
        "id": "VWvtvCDLCFd1"
      },
      "outputs": [],
      "source": [
        "# importing all necessary scripts or libraries \n",
        "import pandas as pd \n",
        "from bs4 import BeautifulSoup\n",
        "import numpy as np\n",
        "import requests"
      ]
    },
    {
      "cell_type": "code",
      "source": [
        "# Getting data from website in text format\n",
        "\n",
        "name_list =[]       # Name of products on flipkart \n",
        "price_list = []     # and the price of that product \n",
        "\n",
        "# You can add or create more lists for more info such as star ratings etc \n",
        "\n",
        "product = 'laptop'   # This is product which i want get all imformation from that site \n",
        "\n",
        "#url = 'https://www.flipkart.com/search?q=iphones&otracker=search&otracker1=search&marketplace=FLIPKART&as-show=on&as=off&page='\n",
        "\n",
        "url = 'https://www.flipkart.com/search?q='\n",
        "rurl = '&otracker=search&otracker1=search&marketplace=FLIPKART&as-show=on&as=off&page='\n",
        "\n",
        "class webscreapping:\n",
        "    \n",
        "    def __init__(self,url):\n",
        "        \n",
        "        for page in range(1,10):        # How many pages: 1 to 10\n",
        "            r = requests.get(url +str(product) + rurl + str(page))  \n",
        "            data = r.content\n",
        "            soup = BeautifulSoup(data, \"html.parser\") # parsing html parcer to data\n",
        "            names = soup.findAll('div', attrs = {'class': '_4rR01T'})    #This is class for that particuar name value in Html code\n",
        "            prices = soup.findAll('div', attrs = {'class': '_30jeq3 _1_WHN1'})\n",
        "            \n",
        "            for name in names:\n",
        "                name_list.append(name.text)\n",
        "            for price in prices:\n",
        "                price_list.append(price.text)\n",
        "\n",
        "\n",
        "    \n",
        "    \n",
        "def processingdata(name_list,price_list):\n",
        "    df = pd.DataFrame()\n",
        "    df['Name'] = name_list\n",
        "    df['Price'] = price_list\n",
        "    df[\"Price\"] = df[\"Price\"].str.replace(\"₹\",\"\")  # Removing ₹80,000 '₹' from price \n",
        "    df[\"Price\"] = df[\"Price\"].str.replace(\",\",\"\")  # Removing 80,000 ',' from price\n",
        "    df[\"Price\"] = pd.to_numeric(df[\"Price\"])       # Converting it in numbers\n",
        "    df.to_csv(\"flipkart_laptops2.csv\", index =False) # exporting file in csv \n",
        "    print(\"_____________ Data Scrapping 100% Done ________________\")\n",
        "        \n",
        "ws1 = webscreapping(url)\n",
        "processingdata(name_list,price_list)"
      ],
      "metadata": {
        "colab": {
          "base_uri": "https://localhost:8080/"
        },
        "id": "9GmZ9b9ECXtH",
        "outputId": "c7b50ab2-a6f8-4bef-8e59-88562d2b8d73"
      },
      "execution_count": 2,
      "outputs": [
        {
          "output_type": "stream",
          "name": "stdout",
          "text": [
            "_____________ Data Scrapping 100% Done ________________\n"
          ]
        }
      ]
    }
  ]
}